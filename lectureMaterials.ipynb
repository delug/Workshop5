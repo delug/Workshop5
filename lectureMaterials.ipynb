{
 "cells": [
  {
   "cell_type": "markdown",
   "metadata": {},
   "source": [
    "# Activation Functions and Layers\n",
    "\n",
    "In this workshop, we will focus on the PyTorch API and its activation functions and layers. The majority of the workshop will be handled as either live-coding or reading library documentation along with some suplementary articles on certain concepts. By default, all topics will be worked through the [PyTorch documentation](https://pytorch.org/docs/stable/nn.html). If a resource other than the documentation is used, it will be linked. In particular, we will focus on the following activation functions:\n",
    "+ [Sigmoid](https://pytorch.org/docs/stable/nn.html#sigmoid)\n",
    "+ [tanh](https://pytorch.org/docs/stable/nn.html#tanh)\n",
    "+ [ReLU](https://pytorch.org/docs/stable/nn.html#relu)\n",
    "+ [LeakyReLU](https://pytorch.org/docs/stable/nn.html#leakyrelu)\n",
    "+ [PReLU](https://pytorch.org/docs/stable/nn.html#prelu)\n",
    "\n",
    "along with the following layers:\n",
    "+ [Linear](https://pytorch.org/docs/stable/nn.html#linear)\n",
    "+ [Bilinear](https://pytorch.org/docs/stable/nn.html#bilinear)\n",
    "+ [Convolutional](http://deeplearning.net/software/theano/tutorial/conv_arithmetic.html) \n",
    "+ [MaxPool](https://pytorch.org/docs/stable/nn.html#pooling-layers)\n",
    "+ [Dropout](https://pytorch.org/docs/stable/nn.html#dropout)\n",
    "+ [Transpose Convolution/Deconvolutional](http://deeplearning.net/software/theano/tutorial/conv_arithmetic.html#transposed-convolution-arithmetic) \n",
    "+ [Upsampling](https://pytorch.org/docs/stable/nn.html#upsample) (e.g. [Bilinear Upsample](https://pytorch.org/docs/stable/nn.html#upsamplingbilinear2d))\n",
    "\n",
    "and potentially some loss functions:\n",
    "+ [MSE](https://pytorch.org/docs/stable/nn.html#mseloss)\n",
    "+ [L-p norm](https://pytorch.org/docs/stable/nn.html#pairwisedistance)\n",
    "+ [Cosine Similarity](https://www.machinelearningplus.com/nlp/cosine-similarity/)\n",
    "+ [Binary Cross Entropy](https://pytorch.org/docs/stable/nn.html#bceloss)\n",
    "+ [(Multi-Class) Cross Entropy](https://pytorch.org/docs/stable/nn.html#crossentropyloss)"
   ]
  }
 ],
 "metadata": {
  "kernelspec": {
   "display_name": "Python 3",
   "language": "python",
   "name": "python3"
  },
  "language_info": {
   "codemirror_mode": {
    "name": "ipython",
    "version": 3
   },
   "file_extension": ".py",
   "mimetype": "text/x-python",
   "name": "python",
   "nbconvert_exporter": "python",
   "pygments_lexer": "ipython3",
   "version": "3.7.3"
  }
 },
 "nbformat": 4,
 "nbformat_minor": 2
}
